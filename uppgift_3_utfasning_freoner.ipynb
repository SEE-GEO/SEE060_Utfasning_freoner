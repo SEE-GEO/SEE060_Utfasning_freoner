{
 "cells": [
  {
   "cell_type": "markdown",
   "id": "8bddb7ba-a802-46e2-91b5-1048cff31696",
   "metadata": {},
   "source": [
    "# Inlämningsuppgift 3: Utfasning av freoner\n",
    "# Bakgrund\n",
    "Den här uppgiften handlar om Montrealprotokollet ifrån 1987 som utgjorde starten för en internationell överenskommelse om att fasa ut ämnena som förstör ozonlagret.\n",
    "Ni kommer undersöka hur koncentrationen av den då mest använda freonen, CFC-12, påverkades av protokollet och senare revideringar (London 1990, Köpenhamn 1992) samt vad som hade hänt vid en försening av 15 år.\n",
    "\n",
    "<div class=\"alert alert-block alert-warning\">\n",
    "<b>Varning: </b>I fallet att du följt länken på Canvas körs den här notebooken på något som heter <a href=https://mybinder.org/>MyBinder</a>, vilket innebär att JupyterLab körs på en server någonstans i molnet. Det är väldigt smidigt för att komma igång med Python och Jupyter, men <b>ingenting sparas</b> och programmet stängs av efter en stunds inaktivitet.\n",
    "Alltså måste du ladda ner filerna till din egen dator för att spara dem (Högerklicka på filen du vill spara i filhanteraren -> Download).\n",
    "Alternativt kan du installera Python och JupyterLab på din egen dator.\n",
    "</div>\n"
   ]
  },
  {
   "cell_type": "markdown",
   "id": "982b6881-fe14-415a-9846-3df32ab5f88c",
   "metadata": {},
   "source": [
    "## Teori\n",
    "Hur massan av en förorening i atmosfären ($m$) förändras som funktion av tid ($t$) kan skrivas som:\n",
    "$$\n",
    "\\frac{dm}{dt} = E - \\frac{m}{\\tau},\n",
    "\\tag{1}\n",
    "$$\n",
    "där $E$ är storleken på utsläppet och $\\tau$ är uppehållstid.\n",
    "\n",
    "För fråga 2 och 3 behöver du en lösning på differentialekvationen ovan (1).\n",
    "Vi kan beräkna en numerisk lösning genom att utgå från derivatans definition:\n",
    "$$\n",
    "\\frac{dm}{dt} = \\lim _{\\Delta t\\to 0} \\frac{m(t+\\Delta t) - m(t)}{\\Delta t} \\approx \\frac{m(t+\\Delta t) - m(t)}{\\Delta t}.\n",
    "\\tag{2}\n",
    "$$\n",
    "\n",
    "Genom att kombinera ekvation (1) och (2) får vi:\n",
    "$$\n",
    "\\frac{m(t+\\Delta t) - m(t)}{\\Delta t} = E - \\frac{m(t)}{\\tau}.\n",
    "$$\n",
    "\n",
    "Flytta om:\n",
    "$$\n",
    "m(t+\\Delta t) = m(t) + \\Delta t \\cdot \\left( E - \\frac{m(t)}{\\tau} \\right).\n",
    "\\tag{3}\n",
    "$$\n",
    "\n",
    "Vi kan alltså beräkna massan av föroreningen i atmosfären i nästa tidssteg ($m(t+\\Delta t)$)\n",
    "baserat på\n",
    "massan i föregående tidssteg ($m(t)$),\n",
    "storleken på tidssteget ($\\Delta t$),\n",
    "utsläppstakten ($E$),\n",
    "och uppehållstiden ($\\tau$).\n",
    "I den här uppgiften kan du sätta $\\Delta t = 1$ år.\n",
    "(Generellt vill vi ha ett så litet $\\Delta t$ som möjligt,\n",
    "men det spelar inte så stor roll i den här uppgiften.)\n",
    "\n",
    "**Exempel:**\n",
    "\n",
    "Antag att utsläppstakten är $E = 2$ kg/år, uppehållstiden är $\\tau = 4$ år, och massan år 2000 är $m = 100$ kg.\n",
    "Vad är massan 2001?\n",
    "$$\n",
    "m(2000+1) = m(2000) + 1 \\cdot \\left( 2 - \\frac{m(2000)}{4} \\right) = 100 + 1 \\cdot \\left( 2 - \\frac{100}{4} \\right) = 77~\\text{kg}.\n",
    "$$\n",
    "\n",
    "Massan år 2002 kan på liknande sätt beräknas baserat på 2001 års värde, o.s.v."
   ]
  },
  {
   "cell_type": "markdown",
   "id": "5334ef6f-b174-490b-8dbb-0bc1fc7a03f1",
   "metadata": {},
   "source": [
    "# Frågor\n",
    "Vi startar vår analys 1989 då Montrealprotokollet började gälla.\n",
    "Då var utsläppstakten $E = 4 \\cdot 10^8$ kg/år.\n",
    "Vid årsskiftet 1989/1990 (d.v.s. 1 januari 1990) var den totala massan av CFC-12 i atmosfären $m = 1 \\cdot 10^{10}$ kg.\n",
    "CFC-12 har en uppehållstid på τ = 100 år (främsta sänka är fotolys i stratosfären)."
   ]
  },
  {
   "cell_type": "markdown",
   "id": "965b9416-f497-4c34-8770-2079e73a6385",
   "metadata": {},
   "source": [
    "## Fråga 1\n",
    "Det ursprungliga Montrealprotokollet stipulerade en 50%-ig sänkning av freonutsläpp till 1999 och därefter konstanta utsläpp.\n",
    "Studera fallet där utsläppen i all framtid är 50% av de 1989."
   ]
  },
  {
   "cell_type": "markdown",
   "id": "44b1ff41-c56f-4a7c-8cb2-0cf8fcc1575f",
   "metadata": {},
   "source": [
    "### a)\n",
    "\n",
    "Visa att CFC-12 skulle uppnå jämvikt vid $m = 2 \\cdot 10^{10}$ kg.\n",
    "\n",
    "<div class=\"alert alert-block alert-info\">\n",
    "<b>Tips: </b>Jämvikt betyder att <i>m</i> är konstant med tid. Denna del går att lösa direkt ifrån ekvation (1).\n",
    "</div>"
   ]
  },
  {
   "cell_type": "markdown",
   "id": "1744b2df-5b90-41ce-aec1-1afeff743fa7",
   "metadata": {},
   "source": [
    "*Här kan du skriva ner ditt svar i markdown om du vill (dubbelklicka på cellen för att redigera)*\n",
    " \n",
    "**Svar**:"
   ]
  },
  {
   "cell_type": "markdown",
   "id": "4edc972d-dae8-47ed-8a83-0d79de68b7f9",
   "metadata": {},
   "source": [
    "### b)\n",
    "\n",
    "Detta är högre än massan i slutet av 1989. Förklara hur detta kan ske?"
   ]
  },
  {
   "cell_type": "markdown",
   "id": "7da5928e-7529-4503-9dc7-85d94c847124",
   "metadata": {},
   "source": [
    "*Här kan du skriva ner ditt svar i markdown om du vill (dubbelklicka på cellen för att redigera)*\n",
    "\n",
    "**Svar:**"
   ]
  },
  {
   "cell_type": "markdown",
   "id": "05403edc-79d8-4f38-b1d8-1824287cbe61",
   "metadata": {},
   "source": [
    "## Fråga 2\n",
    "Revideringen av Montrealprotokollet förbjöd tillverkning av freon ifrån början av 1996.\n",
    "Antag att utsläppen var konstanta på 1989s nivå fram till 31 december 1995,\n",
    "för att sedan falla till noll 1 januari 1996."
   ]
  },
  {
   "cell_type": "markdown",
   "id": "ed0329af-8d8a-4347-a7d1-917b13e5e7fa",
   "metadata": {},
   "source": [
    "### a)\n",
    "\n",
    "Beräkna numeriskt hur massan av CFC-12 skulle variera med tiden med hjälp av ekvation (3).\n",
    "Skapa sedan en plot som visar på hur massan av CFC-12 varierar med tid fram till år 2300.\n",
    "Glöm inte att namnge axlarna och inkludera enheter."
   ]
  },
  {
   "cell_type": "code",
   "execution_count": null,
   "id": "b7d65ab5-312a-4c75-9a75-67ba122bc7ea",
   "metadata": {},
   "outputs": [],
   "source": [
    "# Skriv din kod här, lägg till fler celler vid behov"
   ]
  },
  {
   "cell_type": "markdown",
   "id": "73eede32-71fb-4581-8fbd-0d8e7e9ab7fb",
   "metadata": {},
   "source": [
    "### b)\n",
    "\n",
    "Vad är den maximala massan av CFC-12 i atmosfären? Svara i Mt."
   ]
  },
  {
   "cell_type": "code",
   "execution_count": null,
   "id": "ba653dc1-0e3a-43b6-8cb1-79799532c6ab",
   "metadata": {},
   "outputs": [],
   "source": [
    "# Skriv din kod här, lägg till fler celler vid behov"
   ]
  },
  {
   "cell_type": "markdown",
   "id": "33a9ec52-f457-4e6d-901f-b903a55234ce",
   "metadata": {},
   "source": [
    "*Här kan du skriva ner ditt svar i markdown om du vill (dubbelklicka på cellen för att redigera)*\n",
    " \n",
    "**Svar**:"
   ]
  },
  {
   "cell_type": "markdown",
   "id": "a912dd19-1515-41ad-a679-4229af337e58",
   "metadata": {},
   "source": [
    "### c)\n",
    "\n",
    "Antag att ozonhålet försvinner när CFC-12 passerar $m = 7 \\cdot 10^9$ kg.\n",
    "Vilket år sker detta?"
   ]
  },
  {
   "cell_type": "code",
   "execution_count": null,
   "id": "9a6dd4bf-cca5-4acf-b83d-0f2e6f741f77",
   "metadata": {},
   "outputs": [],
   "source": [
    "# Skriv din kod här, lägg till fler celler vid behov"
   ]
  },
  {
   "cell_type": "markdown",
   "id": "18bd9e51-9b9a-4581-982c-889141bd9a4d",
   "metadata": {},
   "source": [
    "*Här kan du skriva ner ditt svar i markdown om du vill (dubbelklicka på cellen för att redigera)*\n",
    " \n",
    "**Svar**:"
   ]
  },
  {
   "cell_type": "markdown",
   "id": "e56ff0ae-c1c4-4d2f-a472-18b75eaeb68d",
   "metadata": {},
   "source": [
    "### d)\n",
    "\n",
    "CFC-12 är även en växthusgas och vi vill få bort gasen helt.\n",
    "Antag att mängden av gasen kan anses som acceptabel vid $m = 1 \\cdot 10^9$ kg.\n",
    "Vilket år sker detta?"
   ]
  },
  {
   "cell_type": "code",
   "execution_count": null,
   "id": "e79b672e-216f-45ed-9530-eedfb98e4ca0",
   "metadata": {},
   "outputs": [],
   "source": [
    "# Skriv din kod här, lägg till fler celler vid behov"
   ]
  },
  {
   "cell_type": "markdown",
   "id": "b0213fbe-0038-40fb-8789-f08fc9f940f4",
   "metadata": {},
   "source": [
    "*Här kan du skriva ner ditt svar i markdown om du vill (dubbelklicka på cellen för att redigera)*\n",
    " \n",
    "**Svar**:"
   ]
  },
  {
   "cell_type": "markdown",
   "id": "e125210b-c509-4170-aef4-2892baa26e06",
   "metadata": {},
   "source": [
    "## Fråga 3\n",
    "Vad hade hänt om beslutet hade tagits 15 år senare?\n",
    "Det vill säga, anta ett scenario där 1989-års utsläpp fortskred fram till 31 december 2010, följt av ett totalstopp.\n",
    "Upprepa analysen i fråga 2 och svara på samma frågor för det nya scenariot."
   ]
  },
  {
   "cell_type": "markdown",
   "id": "9d6a2e7c-e8a8-40ce-a368-384158d16d0e",
   "metadata": {},
   "source": [
    "### a)\n",
    "\n",
    "Skapa en plot som visar på hur massan av CFC-12 varierar med tid fram till år 2300.\n",
    "Glöm inte att namnge axlarna och inkludera enheter."
   ]
  },
  {
   "cell_type": "code",
   "execution_count": null,
   "id": "46a2896a-e9b6-4496-af0e-98233e39a64b",
   "metadata": {},
   "outputs": [],
   "source": [
    "# Skriv din kod här, lägg till fler celler vid behov"
   ]
  },
  {
   "cell_type": "markdown",
   "id": "2e043e93-8827-445f-9aad-ac012cd7a9a6",
   "metadata": {},
   "source": [
    "### b)\n",
    "\n",
    "Vad är den maximala massan av CFC-12 i atmosfären? Svara i Mt."
   ]
  },
  {
   "cell_type": "code",
   "execution_count": null,
   "id": "a9d2311f-b575-4144-ae39-2c77a2a48a52",
   "metadata": {},
   "outputs": [],
   "source": [
    "# Skriv din kod här, lägg till fler celler vid behov"
   ]
  },
  {
   "cell_type": "markdown",
   "id": "814ff70b-811f-43b0-8ea4-ae0e1263238a",
   "metadata": {},
   "source": [
    "*Här kan du skriva ner ditt svar i markdown om du vill (dubbelklicka på cellen för att redigera)*\n",
    " \n",
    "**Svar**:"
   ]
  },
  {
   "cell_type": "markdown",
   "id": "4bdf1b92-8c04-400c-a588-129875fa9413",
   "metadata": {},
   "source": [
    "### c)\n",
    "\n",
    "Antag att ozonhålet försvinner när CFC-12 passerar $m = 7 \\cdot 10^9$ kg.\n",
    "Vilket år sker detta?"
   ]
  },
  {
   "cell_type": "code",
   "execution_count": null,
   "id": "93dacfe6-d513-4206-ab5f-6c1a8431badd",
   "metadata": {},
   "outputs": [],
   "source": [
    "# Skriv din kod här, lägg till fler celler vid behov"
   ]
  },
  {
   "cell_type": "markdown",
   "id": "7629c2a9-29e8-4c07-8573-c12ab32232c6",
   "metadata": {},
   "source": [
    "*Här kan du skriva ner ditt svar i markdown om du vill (dubbelklicka på cellen för att redigera)*\n",
    " \n",
    "**Svar**:"
   ]
  },
  {
   "cell_type": "markdown",
   "id": "45648800-97b7-470c-89e5-01735b39e833",
   "metadata": {},
   "source": [
    "### d)\n",
    "\n",
    "Antag att mängden av gasen kan anses som acceptabel vid $m = 1 \\cdot 10^9$ kg.\n",
    "Vilket år sker detta?"
   ]
  },
  {
   "cell_type": "code",
   "execution_count": null,
   "id": "894eb1a2-16c1-4ab8-b8cd-71d6556a6197",
   "metadata": {},
   "outputs": [],
   "source": [
    "# Skriv din kod här, lägg till fler celler vid behov"
   ]
  },
  {
   "cell_type": "markdown",
   "id": "5fae470a-41e9-4ece-9122-4104eb0d98e5",
   "metadata": {},
   "source": [
    "*Här kan du skriva ner ditt svar i markdown om du vill (dubbelklicka på cellen för att redigera)*\n",
    " \n",
    "**Svar**:"
   ]
  },
  {
   "cell_type": "markdown",
   "id": "092f6753-4873-491d-87dc-e09229971cf7",
   "metadata": {},
   "source": [
    "### e)\n",
    "\n",
    "Vilken effekt hade en försening av Montrealprotokollet på 15 år fått?\n",
    "Gör en kort analys baserat på svaren ovan."
   ]
  },
  {
   "cell_type": "markdown",
   "id": "331f3504-64a5-49c1-9861-4316b0a77e32",
   "metadata": {},
   "source": [
    "*Här kan du skriva ner ditt svar i markdown om du vill (dubbelklicka på cellen för att redigera)*\n",
    " \n",
    "**Svar**:"
   ]
  }
 ],
 "metadata": {
  "kernelspec": {
   "display_name": "Python 3 (ipykernel)",
   "language": "python",
   "name": "python3"
  },
  "language_info": {
   "codemirror_mode": {
    "name": "ipython",
    "version": 3
   },
   "file_extension": ".py",
   "mimetype": "text/x-python",
   "name": "python",
   "nbconvert_exporter": "python",
   "pygments_lexer": "ipython3",
   "version": "3.10.13"
  }
 },
 "nbformat": 4,
 "nbformat_minor": 5
}
